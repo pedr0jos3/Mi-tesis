{
 "cells": [
  {
   "cell_type": "markdown",
   "id": "7be8676b",
   "metadata": {},
   "source": [
    "## **Exploración del precio histórico del cacao**\n",
    "**Hecho por:** Pedro Sánchez - 202215902\n",
    "### Importación de librerias y datos\n",
    "Primero, es necesario importar las librerias que usaremos, así como importar los datos y revisar que sean los que necesitamos."
   ]
  },
  {
   "cell_type": "code",
   "execution_count": 1,
   "id": "5129141e",
   "metadata": {},
   "outputs": [],
   "source": [
    "import numpy as np\n",
    "import pandas as pd"
   ]
  },
  {
   "cell_type": "code",
   "execution_count": 2,
   "id": "84c9d910",
   "metadata": {},
   "outputs": [],
   "source": [
    "df = pd.read_csv(\"DailyPrices_ICCO.csv\")"
   ]
  },
  {
   "cell_type": "markdown",
   "id": "ce43c647",
   "metadata": {},
   "source": [
    "### Revisar primeras y ultimas filas\n",
    "Esta operación nos muestra una vista rápida del inicio y fin del DataFrame. Nos permite detectar rápidamente inconsistencias, valores extraños o errores en la importación."
   ]
  },
  {
   "cell_type": "code",
   "execution_count": 3,
   "id": "28592c1a",
   "metadata": {},
   "outputs": [
    {
     "data": {
      "text/html": [
       "<div>\n",
       "<style scoped>\n",
       "    .dataframe tbody tr th:only-of-type {\n",
       "        vertical-align: middle;\n",
       "    }\n",
       "\n",
       "    .dataframe tbody tr th {\n",
       "        vertical-align: top;\n",
       "    }\n",
       "\n",
       "    .dataframe thead th {\n",
       "        text-align: right;\n",
       "    }\n",
       "</style>\n",
       "<table border=\"1\" class=\"dataframe\">\n",
       "  <thead>\n",
       "    <tr style=\"text-align: right;\">\n",
       "      <th></th>\n",
       "      <th>Date</th>\n",
       "      <th>London futures (£ sterling/tonne)</th>\n",
       "      <th>New York futures (US$/tonne)</th>\n",
       "      <th>ICCO daily price (US$/tonne)</th>\n",
       "      <th>ICCO daily price (Euro/tonne)</th>\n",
       "    </tr>\n",
       "  </thead>\n",
       "  <tbody>\n",
       "    <tr>\n",
       "      <th>0</th>\n",
       "      <td>15/08/2025</td>\n",
       "      <td>5,538.00</td>\n",
       "      <td>8,150.33</td>\n",
       "      <td>7,831.32</td>\n",
       "      <td>6,693.03</td>\n",
       "    </tr>\n",
       "    <tr>\n",
       "      <th>1</th>\n",
       "      <td>14/08/2025</td>\n",
       "      <td>5,545.33</td>\n",
       "      <td>8,189.67</td>\n",
       "      <td>7,848.47</td>\n",
       "      <td>6,741.05</td>\n",
       "    </tr>\n",
       "    <tr>\n",
       "      <th>2</th>\n",
       "      <td>13/08/2025</td>\n",
       "      <td>5,735.67</td>\n",
       "      <td>8,467.67</td>\n",
       "      <td>8,129.07</td>\n",
       "      <td>6,940.19</td>\n",
       "    </tr>\n",
       "    <tr>\n",
       "      <th>3</th>\n",
       "      <td>12/08/2025</td>\n",
       "      <td>5,786.67</td>\n",
       "      <td>8,505.33</td>\n",
       "      <td>8,163.01</td>\n",
       "      <td>6,993.66</td>\n",
       "    </tr>\n",
       "    <tr>\n",
       "      <th>4</th>\n",
       "      <td>11/08/2025</td>\n",
       "      <td>5,701.67</td>\n",
       "      <td>8,369.33</td>\n",
       "      <td>8,013.19</td>\n",
       "      <td>6,902.97</td>\n",
       "    </tr>\n",
       "  </tbody>\n",
       "</table>\n",
       "</div>"
      ],
      "text/plain": [
       "         Date London futures (£ sterling/tonne) New York futures (US$/tonne)  \\\n",
       "0  15/08/2025                          5,538.00                     8,150.33   \n",
       "1  14/08/2025                          5,545.33                     8,189.67   \n",
       "2  13/08/2025                          5,735.67                     8,467.67   \n",
       "3  12/08/2025                          5,786.67                     8,505.33   \n",
       "4  11/08/2025                          5,701.67                     8,369.33   \n",
       "\n",
       "  ICCO daily price (US$/tonne) ICCO daily price (Euro/tonne)  \n",
       "0                     7,831.32                      6,693.03  \n",
       "1                     7,848.47                      6,741.05  \n",
       "2                     8,129.07                      6,940.19  \n",
       "3                     8,163.01                      6,993.66  \n",
       "4                     8,013.19                      6,902.97  "
      ]
     },
     "execution_count": 3,
     "metadata": {},
     "output_type": "execute_result"
    }
   ],
   "source": [
    "df.head()   # primeras 5 filas"
   ]
  },
  {
   "cell_type": "code",
   "execution_count": 4,
   "id": "a9092d77",
   "metadata": {},
   "outputs": [
    {
     "data": {
      "text/html": [
       "<div>\n",
       "<style scoped>\n",
       "    .dataframe tbody tr th:only-of-type {\n",
       "        vertical-align: middle;\n",
       "    }\n",
       "\n",
       "    .dataframe tbody tr th {\n",
       "        vertical-align: top;\n",
       "    }\n",
       "\n",
       "    .dataframe thead th {\n",
       "        text-align: right;\n",
       "    }\n",
       "</style>\n",
       "<table border=\"1\" class=\"dataframe\">\n",
       "  <thead>\n",
       "    <tr style=\"text-align: right;\">\n",
       "      <th></th>\n",
       "      <th>Date</th>\n",
       "      <th>London futures (£ sterling/tonne)</th>\n",
       "      <th>New York futures (US$/tonne)</th>\n",
       "      <th>ICCO daily price (US$/tonne)</th>\n",
       "      <th>ICCO daily price (Euro/tonne)</th>\n",
       "    </tr>\n",
       "  </thead>\n",
       "  <tbody>\n",
       "    <tr>\n",
       "      <th>7954</th>\n",
       "      <td>NaN</td>\n",
       "      <td>NaN</td>\n",
       "      <td>NaN</td>\n",
       "      <td>NaN</td>\n",
       "      <td>NaN</td>\n",
       "    </tr>\n",
       "    <tr>\n",
       "      <th>7955</th>\n",
       "      <td>NaN</td>\n",
       "      <td>NaN</td>\n",
       "      <td>NaN</td>\n",
       "      <td>NaN</td>\n",
       "      <td>NaN</td>\n",
       "    </tr>\n",
       "    <tr>\n",
       "      <th>7956</th>\n",
       "      <td>NaN</td>\n",
       "      <td>NaN</td>\n",
       "      <td>NaN</td>\n",
       "      <td>NaN</td>\n",
       "      <td>NaN</td>\n",
       "    </tr>\n",
       "    <tr>\n",
       "      <th>7957</th>\n",
       "      <td>NaN</td>\n",
       "      <td>NaN</td>\n",
       "      <td>NaN</td>\n",
       "      <td>NaN</td>\n",
       "      <td>NaN</td>\n",
       "    </tr>\n",
       "    <tr>\n",
       "      <th>7958</th>\n",
       "      <td>NaN</td>\n",
       "      <td>NaN</td>\n",
       "      <td>NaN</td>\n",
       "      <td>NaN</td>\n",
       "      <td>NaN</td>\n",
       "    </tr>\n",
       "  </tbody>\n",
       "</table>\n",
       "</div>"
      ],
      "text/plain": [
       "     Date London futures (£ sterling/tonne) New York futures (US$/tonne)  \\\n",
       "7954  NaN                               NaN                          NaN   \n",
       "7955  NaN                               NaN                          NaN   \n",
       "7956  NaN                               NaN                          NaN   \n",
       "7957  NaN                               NaN                          NaN   \n",
       "7958  NaN                               NaN                          NaN   \n",
       "\n",
       "     ICCO daily price (US$/tonne) ICCO daily price (Euro/tonne)  \n",
       "7954                          NaN                           NaN  \n",
       "7955                          NaN                           NaN  \n",
       "7956                          NaN                           NaN  \n",
       "7957                          NaN                           NaN  \n",
       "7958                          NaN                           NaN  "
      ]
     },
     "execution_count": 4,
     "metadata": {},
     "output_type": "execute_result"
    }
   ],
   "source": [
    "df.tail()   # últimas 5 filas"
   ]
  },
  {
   "cell_type": "code",
   "execution_count": 5,
   "id": "b4b16110",
   "metadata": {},
   "outputs": [
    {
     "data": {
      "text/html": [
       "<div>\n",
       "<style scoped>\n",
       "    .dataframe tbody tr th:only-of-type {\n",
       "        vertical-align: middle;\n",
       "    }\n",
       "\n",
       "    .dataframe tbody tr th {\n",
       "        vertical-align: top;\n",
       "    }\n",
       "\n",
       "    .dataframe thead th {\n",
       "        text-align: right;\n",
       "    }\n",
       "</style>\n",
       "<table border=\"1\" class=\"dataframe\">\n",
       "  <thead>\n",
       "    <tr style=\"text-align: right;\">\n",
       "      <th></th>\n",
       "      <th>Date</th>\n",
       "      <th>London futures (£ sterling/tonne)</th>\n",
       "      <th>New York futures (US$/tonne)</th>\n",
       "      <th>ICCO daily price (US$/tonne)</th>\n",
       "      <th>ICCO daily price (Euro/tonne)</th>\n",
       "    </tr>\n",
       "  </thead>\n",
       "  <tbody>\n",
       "    <tr>\n",
       "      <th>7924</th>\n",
       "      <td>07/10/1994</td>\n",
       "      <td>961.33</td>\n",
       "      <td>1,307.67</td>\n",
       "      <td>1,416.46</td>\n",
       "      <td>1,416.00</td>\n",
       "    </tr>\n",
       "    <tr>\n",
       "      <th>7925</th>\n",
       "      <td>06/10/1994</td>\n",
       "      <td>971.83</td>\n",
       "      <td>1,322.33</td>\n",
       "      <td>1,430.32</td>\n",
       "      <td>1,430.00</td>\n",
       "    </tr>\n",
       "    <tr>\n",
       "      <th>7926</th>\n",
       "      <td>05/10/1994</td>\n",
       "      <td>969.83</td>\n",
       "      <td>1,326.00</td>\n",
       "      <td>1,430.57</td>\n",
       "      <td>1,431.00</td>\n",
       "    </tr>\n",
       "    <tr>\n",
       "      <th>7927</th>\n",
       "      <td>04/10/1994</td>\n",
       "      <td>995.50</td>\n",
       "      <td>1,358.33</td>\n",
       "      <td>1,462.28</td>\n",
       "      <td>1,462.00</td>\n",
       "    </tr>\n",
       "    <tr>\n",
       "      <th>7928</th>\n",
       "      <td>03/10/1994</td>\n",
       "      <td>997.83</td>\n",
       "      <td>1,363.33</td>\n",
       "      <td>1,466.24</td>\n",
       "      <td>1,466.00</td>\n",
       "    </tr>\n",
       "  </tbody>\n",
       "</table>\n",
       "</div>"
      ],
      "text/plain": [
       "            Date London futures (£ sterling/tonne)  \\\n",
       "7924  07/10/1994                            961.33   \n",
       "7925  06/10/1994                            971.83   \n",
       "7926  05/10/1994                            969.83   \n",
       "7927  04/10/1994                            995.50   \n",
       "7928  03/10/1994                            997.83   \n",
       "\n",
       "     New York futures (US$/tonne) ICCO daily price (US$/tonne)  \\\n",
       "7924                     1,307.67                     1,416.46   \n",
       "7925                     1,322.33                     1,430.32   \n",
       "7926                     1,326.00                     1,430.57   \n",
       "7927                     1,358.33                     1,462.28   \n",
       "7928                     1,363.33                     1,466.24   \n",
       "\n",
       "     ICCO daily price (Euro/tonne)  \n",
       "7924                      1,416.00  \n",
       "7925                      1,430.00  \n",
       "7926                      1,431.00  \n",
       "7927                      1,462.00  \n",
       "7928                      1,466.00  "
      ]
     },
     "execution_count": 5,
     "metadata": {},
     "output_type": "execute_result"
    }
   ],
   "source": [
    "df = df.dropna(subset=['Date']).reset_index(drop=True)\n",
    "df.tail()   # Verificamos que las filas con valores nulos se han eliminado"
   ]
  },
  {
   "cell_type": "markdown",
   "id": "c05978eb",
   "metadata": {},
   "source": [
    "### Eliminar columnas irrelevantes\n",
    "Esta operación elimina columnas que no aporta valor al análisis, esto con el fin de reducir el ruido y mejorar la eficiencia del procesamiento de los datos."
   ]
  },
  {
   "cell_type": "code",
   "execution_count": 6,
   "id": "a9dc25df",
   "metadata": {},
   "outputs": [
    {
     "data": {
      "text/html": [
       "<div>\n",
       "<style scoped>\n",
       "    .dataframe tbody tr th:only-of-type {\n",
       "        vertical-align: middle;\n",
       "    }\n",
       "\n",
       "    .dataframe tbody tr th {\n",
       "        vertical-align: top;\n",
       "    }\n",
       "\n",
       "    .dataframe thead th {\n",
       "        text-align: right;\n",
       "    }\n",
       "</style>\n",
       "<table border=\"1\" class=\"dataframe\">\n",
       "  <thead>\n",
       "    <tr style=\"text-align: right;\">\n",
       "      <th></th>\n",
       "      <th>Date</th>\n",
       "      <th>ICCO daily price (US$/tonne)</th>\n",
       "    </tr>\n",
       "  </thead>\n",
       "  <tbody>\n",
       "    <tr>\n",
       "      <th>0</th>\n",
       "      <td>15/08/2025</td>\n",
       "      <td>7,831.32</td>\n",
       "    </tr>\n",
       "    <tr>\n",
       "      <th>1</th>\n",
       "      <td>14/08/2025</td>\n",
       "      <td>7,848.47</td>\n",
       "    </tr>\n",
       "    <tr>\n",
       "      <th>2</th>\n",
       "      <td>13/08/2025</td>\n",
       "      <td>8,129.07</td>\n",
       "    </tr>\n",
       "    <tr>\n",
       "      <th>3</th>\n",
       "      <td>12/08/2025</td>\n",
       "      <td>8,163.01</td>\n",
       "    </tr>\n",
       "    <tr>\n",
       "      <th>4</th>\n",
       "      <td>11/08/2025</td>\n",
       "      <td>8,013.19</td>\n",
       "    </tr>\n",
       "  </tbody>\n",
       "</table>\n",
       "</div>"
      ],
      "text/plain": [
       "         Date ICCO daily price (US$/tonne)\n",
       "0  15/08/2025                     7,831.32\n",
       "1  14/08/2025                     7,848.47\n",
       "2  13/08/2025                     8,129.07\n",
       "3  12/08/2025                     8,163.01\n",
       "4  11/08/2025                     8,013.19"
      ]
     },
     "execution_count": 6,
     "metadata": {},
     "output_type": "execute_result"
    }
   ],
   "source": [
    "df = df.drop(columns=['London futures (£ sterling/tonne)',  'New York futures (US$/tonne)', 'ICCO daily price (Euro/tonne)'])\n",
    "df.head()   # Verificamos que la columna se ha eliminado"
   ]
  },
  {
   "cell_type": "markdown",
   "id": "a46a6440",
   "metadata": {},
   "source": [
    "### Cambio de tipo de datos\n",
    "Dado que los datos están en formato de texto, esta operación convierte la columna al tipo de dato necesario, garantizando que los calculos y operaciones se hagan correctamente."
   ]
  },
  {
   "cell_type": "code",
   "execution_count": 7,
   "id": "26fabd2c",
   "metadata": {},
   "outputs": [
    {
     "data": {
      "text/html": [
       "<div>\n",
       "<style scoped>\n",
       "    .dataframe tbody tr th:only-of-type {\n",
       "        vertical-align: middle;\n",
       "    }\n",
       "\n",
       "    .dataframe tbody tr th {\n",
       "        vertical-align: top;\n",
       "    }\n",
       "\n",
       "    .dataframe thead th {\n",
       "        text-align: right;\n",
       "    }\n",
       "</style>\n",
       "<table border=\"1\" class=\"dataframe\">\n",
       "  <thead>\n",
       "    <tr style=\"text-align: right;\">\n",
       "      <th></th>\n",
       "      <th>Date</th>\n",
       "      <th>ICCO daily price (US$/tonne)</th>\n",
       "    </tr>\n",
       "  </thead>\n",
       "  <tbody>\n",
       "    <tr>\n",
       "      <th>0</th>\n",
       "      <td>2025-08-15</td>\n",
       "      <td>7831.32</td>\n",
       "    </tr>\n",
       "    <tr>\n",
       "      <th>1</th>\n",
       "      <td>2025-08-14</td>\n",
       "      <td>7848.47</td>\n",
       "    </tr>\n",
       "    <tr>\n",
       "      <th>2</th>\n",
       "      <td>2025-08-13</td>\n",
       "      <td>8129.07</td>\n",
       "    </tr>\n",
       "    <tr>\n",
       "      <th>3</th>\n",
       "      <td>2025-08-12</td>\n",
       "      <td>8163.01</td>\n",
       "    </tr>\n",
       "    <tr>\n",
       "      <th>4</th>\n",
       "      <td>2025-08-11</td>\n",
       "      <td>8013.19</td>\n",
       "    </tr>\n",
       "  </tbody>\n",
       "</table>\n",
       "</div>"
      ],
      "text/plain": [
       "        Date  ICCO daily price (US$/tonne)\n",
       "0 2025-08-15                       7831.32\n",
       "1 2025-08-14                       7848.47\n",
       "2 2025-08-13                       8129.07\n",
       "3 2025-08-12                       8163.01\n",
       "4 2025-08-11                       8013.19"
      ]
     },
     "execution_count": 7,
     "metadata": {},
     "output_type": "execute_result"
    }
   ],
   "source": [
    "df['ICCO daily price (US$/tonne)'] = df['ICCO daily price (US$/tonne)'].str.replace(',', '', regex=False).astype(float)\n",
    "df['Date'] = pd.to_datetime(df['Date'], dayfirst=True)\n",
    "df.head()   # Verificamos el cambio de tipo de dato"
   ]
  },
  {
   "cell_type": "markdown",
   "id": "00be0829",
   "metadata": {},
   "source": [
    "### Renombrar columnas\n",
    "Esta operación cambia el nombre de la columna que le indiquemos. Esto nos ayuda para establecer nombre claros, consistentes y sin espacios (para facilitar el manejo y evitar errores en el código) cuando sea necesario."
   ]
  },
  {
   "cell_type": "code",
   "execution_count": 8,
   "id": "44c76b75",
   "metadata": {},
   "outputs": [
    {
     "data": {
      "text/html": [
       "<div>\n",
       "<style scoped>\n",
       "    .dataframe tbody tr th:only-of-type {\n",
       "        vertical-align: middle;\n",
       "    }\n",
       "\n",
       "    .dataframe tbody tr th {\n",
       "        vertical-align: top;\n",
       "    }\n",
       "\n",
       "    .dataframe thead th {\n",
       "        text-align: right;\n",
       "    }\n",
       "</style>\n",
       "<table border=\"1\" class=\"dataframe\">\n",
       "  <thead>\n",
       "    <tr style=\"text-align: right;\">\n",
       "      <th></th>\n",
       "      <th>Fecha</th>\n",
       "      <th>USD/tonelada</th>\n",
       "    </tr>\n",
       "  </thead>\n",
       "  <tbody>\n",
       "    <tr>\n",
       "      <th>0</th>\n",
       "      <td>2025-08-15</td>\n",
       "      <td>7831.32</td>\n",
       "    </tr>\n",
       "    <tr>\n",
       "      <th>1</th>\n",
       "      <td>2025-08-14</td>\n",
       "      <td>7848.47</td>\n",
       "    </tr>\n",
       "    <tr>\n",
       "      <th>2</th>\n",
       "      <td>2025-08-13</td>\n",
       "      <td>8129.07</td>\n",
       "    </tr>\n",
       "    <tr>\n",
       "      <th>3</th>\n",
       "      <td>2025-08-12</td>\n",
       "      <td>8163.01</td>\n",
       "    </tr>\n",
       "    <tr>\n",
       "      <th>4</th>\n",
       "      <td>2025-08-11</td>\n",
       "      <td>8013.19</td>\n",
       "    </tr>\n",
       "  </tbody>\n",
       "</table>\n",
       "</div>"
      ],
      "text/plain": [
       "       Fecha  USD/tonelada\n",
       "0 2025-08-15       7831.32\n",
       "1 2025-08-14       7848.47\n",
       "2 2025-08-13       8129.07\n",
       "3 2025-08-12       8163.01\n",
       "4 2025-08-11       8013.19"
      ]
     },
     "execution_count": 8,
     "metadata": {},
     "output_type": "execute_result"
    }
   ],
   "source": [
    "df.rename(columns={'Date': 'Fecha'}, inplace=True)\n",
    "df.rename(columns={'ICCO daily price (US$/tonne)': 'USD/tonelada'}, inplace=True)\n",
    "df.head()   # Verificamos el cambio de nombre"
   ]
  },
  {
   "cell_type": "markdown",
   "id": "752d6815",
   "metadata": {},
   "source": [
    "### Revisar estadisticas descriptivas\n",
    "Esta operación calcula métricas básicas (como media, desviación estándar, minimo, máximo, cuartiles) para las columnas que son numéricas. Esto nos ayuda a detectar outliers o valores fuera de rango y entender la distribución inicial de estos datos."
   ]
  },
  {
   "cell_type": "code",
   "execution_count": 9,
   "id": "c3d52e86",
   "metadata": {},
   "outputs": [
    {
     "data": {
      "text/html": [
       "<div>\n",
       "<style scoped>\n",
       "    .dataframe tbody tr th:only-of-type {\n",
       "        vertical-align: middle;\n",
       "    }\n",
       "\n",
       "    .dataframe tbody tr th {\n",
       "        vertical-align: top;\n",
       "    }\n",
       "\n",
       "    .dataframe thead th {\n",
       "        text-align: right;\n",
       "    }\n",
       "</style>\n",
       "<table border=\"1\" class=\"dataframe\">\n",
       "  <thead>\n",
       "    <tr style=\"text-align: right;\">\n",
       "      <th></th>\n",
       "      <th>Fecha</th>\n",
       "      <th>USD/tonelada</th>\n",
       "    </tr>\n",
       "  </thead>\n",
       "  <tbody>\n",
       "    <tr>\n",
       "      <th>count</th>\n",
       "      <td>7929</td>\n",
       "      <td>7929.000000</td>\n",
       "    </tr>\n",
       "    <tr>\n",
       "      <th>mean</th>\n",
       "      <td>2010-03-13 13:58:40.998864896</td>\n",
       "      <td>2437.653678</td>\n",
       "    </tr>\n",
       "    <tr>\n",
       "      <th>min</th>\n",
       "      <td>1994-10-03 00:00:00</td>\n",
       "      <td>774.100000</td>\n",
       "    </tr>\n",
       "    <tr>\n",
       "      <th>25%</th>\n",
       "      <td>2002-06-28 00:00:00</td>\n",
       "      <td>1561.900000</td>\n",
       "    </tr>\n",
       "    <tr>\n",
       "      <th>50%</th>\n",
       "      <td>2010-03-16 00:00:00</td>\n",
       "      <td>2216.090000</td>\n",
       "    </tr>\n",
       "    <tr>\n",
       "      <th>75%</th>\n",
       "      <td>2017-11-28 00:00:00</td>\n",
       "      <td>2783.680000</td>\n",
       "    </tr>\n",
       "    <tr>\n",
       "      <th>max</th>\n",
       "      <td>2025-08-15 00:00:00</td>\n",
       "      <td>11984.660000</td>\n",
       "    </tr>\n",
       "    <tr>\n",
       "      <th>std</th>\n",
       "      <td>NaN</td>\n",
       "      <td>1504.633371</td>\n",
       "    </tr>\n",
       "  </tbody>\n",
       "</table>\n",
       "</div>"
      ],
      "text/plain": [
       "                               Fecha  USD/tonelada\n",
       "count                           7929   7929.000000\n",
       "mean   2010-03-13 13:58:40.998864896   2437.653678\n",
       "min              1994-10-03 00:00:00    774.100000\n",
       "25%              2002-06-28 00:00:00   1561.900000\n",
       "50%              2010-03-16 00:00:00   2216.090000\n",
       "75%              2017-11-28 00:00:00   2783.680000\n",
       "max              2025-08-15 00:00:00  11984.660000\n",
       "std                              NaN   1504.633371"
      ]
     },
     "execution_count": 9,
     "metadata": {},
     "output_type": "execute_result"
    }
   ],
   "source": [
    "df.describe()"
   ]
  },
  {
   "cell_type": "markdown",
   "id": "2b43683a",
   "metadata": {},
   "source": [
    "### Cambio de divisa USD -> COP\n",
    "Esta operación nos permite generar nuevas columnas a partir de otras."
   ]
  },
  {
   "cell_type": "code",
   "execution_count": 10,
   "id": "67606c95",
   "metadata": {},
   "outputs": [
    {
     "data": {
      "text/html": [
       "<div>\n",
       "<style scoped>\n",
       "    .dataframe tbody tr th:only-of-type {\n",
       "        vertical-align: middle;\n",
       "    }\n",
       "\n",
       "    .dataframe tbody tr th {\n",
       "        vertical-align: top;\n",
       "    }\n",
       "\n",
       "    .dataframe thead th {\n",
       "        text-align: right;\n",
       "    }\n",
       "</style>\n",
       "<table border=\"1\" class=\"dataframe\">\n",
       "  <thead>\n",
       "    <tr style=\"text-align: right;\">\n",
       "      <th></th>\n",
       "      <th>VALOR</th>\n",
       "      <th>UNIDAD</th>\n",
       "      <th>VIGENCIADESDE</th>\n",
       "      <th>VIGENCIAHASTA</th>\n",
       "    </tr>\n",
       "  </thead>\n",
       "  <tbody>\n",
       "    <tr>\n",
       "      <th>0</th>\n",
       "      <td>4019.24</td>\n",
       "      <td>COP</td>\n",
       "      <td>16/08/2025</td>\n",
       "      <td>19/08/2025</td>\n",
       "    </tr>\n",
       "    <tr>\n",
       "      <th>1</th>\n",
       "      <td>4048.74</td>\n",
       "      <td>COP</td>\n",
       "      <td>15/08/2025</td>\n",
       "      <td>15/08/2025</td>\n",
       "    </tr>\n",
       "    <tr>\n",
       "      <th>2</th>\n",
       "      <td>4020.64</td>\n",
       "      <td>COP</td>\n",
       "      <td>14/08/2025</td>\n",
       "      <td>14/08/2025</td>\n",
       "    </tr>\n",
       "    <tr>\n",
       "      <th>3</th>\n",
       "      <td>4017.12</td>\n",
       "      <td>COP</td>\n",
       "      <td>13/08/2025</td>\n",
       "      <td>13/08/2025</td>\n",
       "    </tr>\n",
       "    <tr>\n",
       "      <th>4</th>\n",
       "      <td>4045.87</td>\n",
       "      <td>COP</td>\n",
       "      <td>12/08/2025</td>\n",
       "      <td>12/08/2025</td>\n",
       "    </tr>\n",
       "  </tbody>\n",
       "</table>\n",
       "</div>"
      ],
      "text/plain": [
       "     VALOR UNIDAD VIGENCIADESDE VIGENCIAHASTA\n",
       "0  4019.24    COP    16/08/2025    19/08/2025\n",
       "1  4048.74    COP    15/08/2025    15/08/2025\n",
       "2  4020.64    COP    14/08/2025    14/08/2025\n",
       "3  4017.12    COP    13/08/2025    13/08/2025\n",
       "4  4045.87    COP    12/08/2025    12/08/2025"
      ]
     },
     "execution_count": 10,
     "metadata": {},
     "output_type": "execute_result"
    }
   ],
   "source": [
    "trm_df = pd.read_csv('TRM_historica.csv')\n",
    "trm_df.head()  "
   ]
  },
  {
   "cell_type": "code",
   "execution_count": 11,
   "id": "bb33333f",
   "metadata": {},
   "outputs": [
    {
     "data": {
      "text/html": [
       "<div>\n",
       "<style scoped>\n",
       "    .dataframe tbody tr th:only-of-type {\n",
       "        vertical-align: middle;\n",
       "    }\n",
       "\n",
       "    .dataframe tbody tr th {\n",
       "        vertical-align: top;\n",
       "    }\n",
       "\n",
       "    .dataframe thead th {\n",
       "        text-align: right;\n",
       "    }\n",
       "</style>\n",
       "<table border=\"1\" class=\"dataframe\">\n",
       "  <thead>\n",
       "    <tr style=\"text-align: right;\">\n",
       "      <th></th>\n",
       "      <th>Fecha</th>\n",
       "      <th>TRM</th>\n",
       "    </tr>\n",
       "  </thead>\n",
       "  <tbody>\n",
       "    <tr>\n",
       "      <th>0</th>\n",
       "      <td>2025-08-16</td>\n",
       "      <td>4019.24</td>\n",
       "    </tr>\n",
       "    <tr>\n",
       "      <th>1</th>\n",
       "      <td>2025-08-17</td>\n",
       "      <td>4019.24</td>\n",
       "    </tr>\n",
       "    <tr>\n",
       "      <th>2</th>\n",
       "      <td>2025-08-18</td>\n",
       "      <td>4019.24</td>\n",
       "    </tr>\n",
       "    <tr>\n",
       "      <th>3</th>\n",
       "      <td>2025-08-19</td>\n",
       "      <td>4019.24</td>\n",
       "    </tr>\n",
       "    <tr>\n",
       "      <th>4</th>\n",
       "      <td>2025-08-15</td>\n",
       "      <td>4048.74</td>\n",
       "    </tr>\n",
       "    <tr>\n",
       "      <th>5</th>\n",
       "      <td>2025-08-14</td>\n",
       "      <td>4020.64</td>\n",
       "    </tr>\n",
       "    <tr>\n",
       "      <th>6</th>\n",
       "      <td>2025-08-13</td>\n",
       "      <td>4017.12</td>\n",
       "    </tr>\n",
       "    <tr>\n",
       "      <th>7</th>\n",
       "      <td>2025-08-12</td>\n",
       "      <td>4045.87</td>\n",
       "    </tr>\n",
       "    <tr>\n",
       "      <th>8</th>\n",
       "      <td>2025-08-09</td>\n",
       "      <td>4034.74</td>\n",
       "    </tr>\n",
       "    <tr>\n",
       "      <th>9</th>\n",
       "      <td>2025-08-10</td>\n",
       "      <td>4034.74</td>\n",
       "    </tr>\n",
       "  </tbody>\n",
       "</table>\n",
       "</div>"
      ],
      "text/plain": [
       "       Fecha      TRM\n",
       "0 2025-08-16  4019.24\n",
       "1 2025-08-17  4019.24\n",
       "2 2025-08-18  4019.24\n",
       "3 2025-08-19  4019.24\n",
       "4 2025-08-15  4048.74\n",
       "5 2025-08-14  4020.64\n",
       "6 2025-08-13  4017.12\n",
       "7 2025-08-12  4045.87\n",
       "8 2025-08-09  4034.74\n",
       "9 2025-08-10  4034.74"
      ]
     },
     "execution_count": 11,
     "metadata": {},
     "output_type": "execute_result"
    }
   ],
   "source": [
    "trm_df[\"VIGENCIADESDE\"] = pd.to_datetime(trm_df[\"VIGENCIADESDE\"], dayfirst=True)\n",
    "trm_df[\"VIGENCIAHASTA\"] = pd.to_datetime(trm_df[\"VIGENCIAHASTA\"], dayfirst=True)\n",
    "\n",
    "# Crear una lista de todas las fechas intermedias entre esas dos\n",
    "trm_df[\"FECHAS\"] = trm_df.apply(\n",
    "    lambda row: pd.date_range(row[\"VIGENCIADESDE\"], row[\"VIGENCIAHASTA\"]), axis=1\n",
    ")\n",
    "\n",
    "# Coger esa lista de fechas y separarlas en varias filas dentro del DataFrame\n",
    "trm_expandido = trm_df.explode(\"FECHAS\")\n",
    "\n",
    "# Renombrar las columnas para mayor claridad\n",
    "trm_expandido = trm_expandido[[\"FECHAS\", \"VALOR\"]].rename(columns={\"FECHAS\": \"Fecha\", \"VALOR\": \"TRM\"})\n",
    "trm_expandido = trm_expandido.reset_index(drop=True)\n",
    "\n",
    "trm_expandido.head(10)"
   ]
  },
  {
   "cell_type": "code",
   "execution_count": 12,
   "id": "5c12a11f",
   "metadata": {},
   "outputs": [
    {
     "data": {
      "text/html": [
       "<div>\n",
       "<style scoped>\n",
       "    .dataframe tbody tr th:only-of-type {\n",
       "        vertical-align: middle;\n",
       "    }\n",
       "\n",
       "    .dataframe tbody tr th {\n",
       "        vertical-align: top;\n",
       "    }\n",
       "\n",
       "    .dataframe thead th {\n",
       "        text-align: right;\n",
       "    }\n",
       "</style>\n",
       "<table border=\"1\" class=\"dataframe\">\n",
       "  <thead>\n",
       "    <tr style=\"text-align: right;\">\n",
       "      <th></th>\n",
       "      <th>Fecha</th>\n",
       "      <th>USD/tonelada</th>\n",
       "      <th>TRM</th>\n",
       "    </tr>\n",
       "  </thead>\n",
       "  <tbody>\n",
       "    <tr>\n",
       "      <th>0</th>\n",
       "      <td>2025-08-15</td>\n",
       "      <td>7831.32</td>\n",
       "      <td>4048.74</td>\n",
       "    </tr>\n",
       "    <tr>\n",
       "      <th>1</th>\n",
       "      <td>2025-08-14</td>\n",
       "      <td>7848.47</td>\n",
       "      <td>4020.64</td>\n",
       "    </tr>\n",
       "    <tr>\n",
       "      <th>2</th>\n",
       "      <td>2025-08-13</td>\n",
       "      <td>8129.07</td>\n",
       "      <td>4017.12</td>\n",
       "    </tr>\n",
       "    <tr>\n",
       "      <th>3</th>\n",
       "      <td>2025-08-12</td>\n",
       "      <td>8163.01</td>\n",
       "      <td>4045.87</td>\n",
       "    </tr>\n",
       "    <tr>\n",
       "      <th>4</th>\n",
       "      <td>2025-08-11</td>\n",
       "      <td>8013.19</td>\n",
       "      <td>4034.74</td>\n",
       "    </tr>\n",
       "    <tr>\n",
       "      <th>5</th>\n",
       "      <td>2025-08-08</td>\n",
       "      <td>7652.69</td>\n",
       "      <td>4049.35</td>\n",
       "    </tr>\n",
       "    <tr>\n",
       "      <th>6</th>\n",
       "      <td>2025-08-07</td>\n",
       "      <td>7687.97</td>\n",
       "      <td>4049.35</td>\n",
       "    </tr>\n",
       "    <tr>\n",
       "      <th>7</th>\n",
       "      <td>2025-08-06</td>\n",
       "      <td>7553.05</td>\n",
       "      <td>4093.12</td>\n",
       "    </tr>\n",
       "    <tr>\n",
       "      <th>8</th>\n",
       "      <td>2025-08-05</td>\n",
       "      <td>7551.55</td>\n",
       "      <td>4097.38</td>\n",
       "    </tr>\n",
       "    <tr>\n",
       "      <th>9</th>\n",
       "      <td>2025-08-04</td>\n",
       "      <td>7324.64</td>\n",
       "      <td>4129.42</td>\n",
       "    </tr>\n",
       "  </tbody>\n",
       "</table>\n",
       "</div>"
      ],
      "text/plain": [
       "       Fecha  USD/tonelada      TRM\n",
       "0 2025-08-15       7831.32  4048.74\n",
       "1 2025-08-14       7848.47  4020.64\n",
       "2 2025-08-13       8129.07  4017.12\n",
       "3 2025-08-12       8163.01  4045.87\n",
       "4 2025-08-11       8013.19  4034.74\n",
       "5 2025-08-08       7652.69  4049.35\n",
       "6 2025-08-07       7687.97  4049.35\n",
       "7 2025-08-06       7553.05  4093.12\n",
       "8 2025-08-05       7551.55  4097.38\n",
       "9 2025-08-04       7324.64  4129.42"
      ]
     },
     "execution_count": 12,
     "metadata": {},
     "output_type": "execute_result"
    }
   ],
   "source": [
    "df = df.merge(trm_expandido[['Fecha', 'TRM']], on='Fecha', how='left')\n",
    "df.head(10)   # Verificamos que la columna TRM se ha añadido"
   ]
  },
  {
   "cell_type": "code",
   "execution_count": 13,
   "id": "83a7529a",
   "metadata": {},
   "outputs": [
    {
     "data": {
      "text/html": [
       "<div>\n",
       "<style scoped>\n",
       "    .dataframe tbody tr th:only-of-type {\n",
       "        vertical-align: middle;\n",
       "    }\n",
       "\n",
       "    .dataframe tbody tr th {\n",
       "        vertical-align: top;\n",
       "    }\n",
       "\n",
       "    .dataframe thead th {\n",
       "        text-align: right;\n",
       "    }\n",
       "</style>\n",
       "<table border=\"1\" class=\"dataframe\">\n",
       "  <thead>\n",
       "    <tr style=\"text-align: right;\">\n",
       "      <th></th>\n",
       "      <th>Fecha</th>\n",
       "      <th>USD/tonelada</th>\n",
       "      <th>TRM</th>\n",
       "      <th>COP/kg</th>\n",
       "    </tr>\n",
       "  </thead>\n",
       "  <tbody>\n",
       "    <tr>\n",
       "      <th>0</th>\n",
       "      <td>2025-08-15</td>\n",
       "      <td>7831.32</td>\n",
       "      <td>4048.74</td>\n",
       "      <td>31706.98</td>\n",
       "    </tr>\n",
       "    <tr>\n",
       "      <th>1</th>\n",
       "      <td>2025-08-14</td>\n",
       "      <td>7848.47</td>\n",
       "      <td>4020.64</td>\n",
       "      <td>31555.87</td>\n",
       "    </tr>\n",
       "    <tr>\n",
       "      <th>2</th>\n",
       "      <td>2025-08-13</td>\n",
       "      <td>8129.07</td>\n",
       "      <td>4017.12</td>\n",
       "      <td>32655.45</td>\n",
       "    </tr>\n",
       "    <tr>\n",
       "      <th>3</th>\n",
       "      <td>2025-08-12</td>\n",
       "      <td>8163.01</td>\n",
       "      <td>4045.87</td>\n",
       "      <td>33026.48</td>\n",
       "    </tr>\n",
       "    <tr>\n",
       "      <th>4</th>\n",
       "      <td>2025-08-11</td>\n",
       "      <td>8013.19</td>\n",
       "      <td>4034.74</td>\n",
       "      <td>32331.14</td>\n",
       "    </tr>\n",
       "  </tbody>\n",
       "</table>\n",
       "</div>"
      ],
      "text/plain": [
       "       Fecha  USD/tonelada      TRM    COP/kg\n",
       "0 2025-08-15       7831.32  4048.74  31706.98\n",
       "1 2025-08-14       7848.47  4020.64  31555.87\n",
       "2 2025-08-13       8129.07  4017.12  32655.45\n",
       "3 2025-08-12       8163.01  4045.87  33026.48\n",
       "4 2025-08-11       8013.19  4034.74  32331.14"
      ]
     },
     "execution_count": 13,
     "metadata": {},
     "output_type": "execute_result"
    }
   ],
   "source": [
    "df[\"COP/kg\"] = ((df[\"USD/tonelada\"] * df[\"TRM\"]) / 1000).round(2)\n",
    "df.head()   # Verificamos que la nueva columna se ha creado correctamente"
   ]
  },
  {
   "cell_type": "markdown",
   "id": "443d20cf",
   "metadata": {},
   "source": [
    "### Gráficos relevantes\n"
   ]
  },
  {
   "cell_type": "code",
   "execution_count": 14,
   "id": "d1d1cfe4",
   "metadata": {},
   "outputs": [],
   "source": [
    "import matplotlib.pyplot as plt"
   ]
  },
  {
   "cell_type": "code",
   "execution_count": 15,
   "id": "a9828742",
   "metadata": {},
   "outputs": [
    {
     "data": {
      "image/png": "[encoded data removed]",
      "text/plain": [
       "<Figure size 1200x600 with 1 Axes>"
      ]
     },
     "metadata": {},
     "output_type": "display_data"
    }
   ],
   "source": [
    "plt.figure(figsize=(12,6))\n",
    "plt.plot(df[\"Fecha\"], df[\"COP/kg\"], linewidth=2)\n",
    "\n",
    "plt.title(\"Precio histórico del cacao en COP/kg\", fontsize=14)\n",
    "plt.xlabel(\"Fecha\")\n",
    "plt.ylabel(\"Precio (COP/kg)\")\n",
    "plt.grid(True)\n",
    "\n",
    "plt.show()"
   ]
  },
  {
   "cell_type": "code",
   "execution_count": 16,
   "id": "1f4449fd",
   "metadata": {},
   "outputs": [
    {
     "data": {
      "image/png": "[encoded data removed]",
      "text/plain": [
       "<Figure size 1200x600 with 1 Axes>"
      ]
     },
     "metadata": {},
     "output_type": "display_data"
    }
   ],
   "source": [
    "# También se puede definir un rango de fechas especifico\n",
    "inicio = \"2024-08-15\"\n",
    "fin = \"2025-08-15\"\n",
    "\n",
    "df_rango = df[(df[\"Fecha\"] >= inicio) & (df[\"Fecha\"] <= fin)]\n",
    "\n",
    "plt.figure(figsize=(12,6))\n",
    "plt.plot(df_rango[\"Fecha\"], df_rango[\"COP/kg\"], linewidth=2)\n",
    "\n",
    "plt.title(f\"Precio del cacao en COP/kg ({inicio} a {fin})\", fontsize=14)\n",
    "plt.xlabel(\"Fecha\")\n",
    "plt.ylabel(\"Precio (COP/kg)\")\n",
    "plt.grid(True)\n",
    "plt.show()"
   ]
  },
  {
   "cell_type": "markdown",
   "id": "d44465c4",
   "metadata": {},
   "source": [
    "### Descomposición de la serie\n",
    "Revisión de tendencia, estacionalidad y residuo (\"ruido\")."
   ]
  },
  {
   "cell_type": "code",
   "execution_count": 17,
   "id": "b1788e39",
   "metadata": {},
   "outputs": [],
   "source": [
    "from statsmodels.tsa.seasonal import seasonal_decompose\n",
    "from statsmodels.tsa.stattools import adfuller, kpss, acf, pacf"
   ]
  },
  {
   "cell_type": "code",
   "execution_count": null,
   "id": "67b525b1",
   "metadata": {},
   "outputs": [
    {
     "data": {
      "image/png": "[encoded data removed]",
      "text/plain": [
       "<Figure size 640x480 with 4 Axes>"
      ]
     },
     "metadata": {},
     "output_type": "display_data"
    }
   ],
   "source": [
    "result = seasonal_decompose(df['COP/kg'], model='additive', period=365)\n",
    "result.plot()\n",
    "plt.show()"
   ]
  },
  {
   "cell_type": "markdown",
   "id": "e7e2af13",
   "metadata": {},
   "source": [
    "### Test de estacionariedad"
   ]
  },
  {
   "cell_type": "code",
   "execution_count": 20,
   "id": "0678b219",
   "metadata": {},
   "outputs": [
    {
     "name": "stdout",
     "output_type": "stream",
     "text": [
      "ADF Statistic: -3.8937112242417493\n",
      "p-value: 0.0020816196017410487\n",
      "KPSS Statistic: 6.773821963410961\n",
      "p-value: 0.01\n"
     ]
    },
    {
     "name": "stderr",
     "output_type": "stream",
     "text": [
      "C:\\Users\\peter\\AppData\\Local\\Temp\\ipykernel_10912\\48680327.py:8: InterpolationWarning: The test statistic is outside of the range of p-values available in the\n",
      "look-up table. The actual p-value is smaller than the p-value returned.\n",
      "\n",
      "  kpss_test = kpss(df['COP/kg'], regression='c')\n"
     ]
    }
   ],
   "source": [
    "# Dickey-Fuller Aumentado\n",
    "adf_test = adfuller(df['COP/kg'])\n",
    "print('ADF Statistic:', adf_test[0])\n",
    "print('p-value:', adf_test[1])\n",
    "\n",
    "# KPSS\n",
    "from statsmodels.tsa.stattools import kpss\n",
    "kpss_test = kpss(df['COP/kg'], regression='c')\n",
    "print('KPSS Statistic:', kpss_test[0])\n",
    "print('p-value:', kpss_test[1])"
   ]
  },
  {
   "cell_type": "markdown",
   "id": "36c21020",
   "metadata": {},
   "source": [
    "### Autocorrelación"
   ]
  },
  {
   "cell_type": "code",
   "execution_count": 21,
   "id": "f96a1779",
   "metadata": {},
   "outputs": [
    {
     "data": {
      "image/png": "[encoded data removed]",
      "text/plain": [
       "<Figure size 640x480 with 1 Axes>"
      ]
     },
     "metadata": {},
     "output_type": "display_data"
    },
    {
     "data": {
      "image/png": "[encoded data removed]",
      "text/plain": [
       "<Figure size 640x480 with 1 Axes>"
      ]
     },
     "metadata": {},
     "output_type": "display_data"
    }
   ],
   "source": [
    "from statsmodels.graphics.tsaplots import plot_acf, plot_pacf\n",
    "\n",
    "plot_acf(df['COP/kg'], lags=30)\n",
    "plot_pacf(df['COP/kg'], lags=30)\n",
    "plt.show()"
   ]
  }
 ],
 "metadata": {
  "kernelspec": {
   "display_name": "Python 3",
   "language": "python",
   "name": "python3"
  },
  "language_info": {
   "codemirror_mode": {
    "name": "ipython",
    "version": 3
   },
   "file_extension": ".py",
   "mimetype": "text/x-python",
   "name": "python",
   "nbconvert_exporter": "python",
   "pygments_lexer": "ipython3",
   "version": "3.12.0"
  }
 },
 "nbformat": 4,
 "nbformat_minor": 5
}
